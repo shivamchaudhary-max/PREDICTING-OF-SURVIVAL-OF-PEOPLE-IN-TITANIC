{
 "cells": [
  {
   "cell_type": "code",
   "execution_count": 1,
   "id": "76a9e26a",
   "metadata": {
    "execution": {
     "iopub.execute_input": "2022-01-19T19:31:39.470557Z",
     "iopub.status.busy": "2022-01-19T19:31:39.469772Z",
     "iopub.status.idle": "2022-01-19T19:31:40.638158Z",
     "shell.execute_reply": "2022-01-19T19:31:40.637411Z",
     "shell.execute_reply.started": "2022-01-19T19:27:15.407749Z"
    },
    "papermill": {
     "duration": 1.197019,
     "end_time": "2022-01-19T19:31:40.638329",
     "exception": false,
     "start_time": "2022-01-19T19:31:39.441310",
     "status": "completed"
    },
    "tags": []
   },
   "outputs": [],
   "source": [
    "import numpy as np\n",
    "\n",
    "  # Load libraries\n",
    "import pandas as pd\n",
    "from sklearn.tree import DecisionTreeClassifier # Import Decision Tree Classifier\n",
    "from sklearn.model_selection import train_test_split # Import train_test_split function\n",
    "from sklearn import metrics #Import scikit-learn metrics module for accuracy calculation"
   ]
  },
  {
   "cell_type": "code",
   "execution_count": 2,
   "id": "b9dd515e",
   "metadata": {
    "execution": {
     "iopub.execute_input": "2022-01-19T19:31:40.673546Z",
     "iopub.status.busy": "2022-01-19T19:31:40.672983Z",
     "iopub.status.idle": "2022-01-19T19:31:40.692192Z",
     "shell.execute_reply": "2022-01-19T19:31:40.691541Z",
     "shell.execute_reply.started": "2022-01-19T19:27:57.632484Z"
    },
    "papermill": {
     "duration": 0.038366,
     "end_time": "2022-01-19T19:31:40.692344",
     "exception": false,
     "start_time": "2022-01-19T19:31:40.653978",
     "status": "completed"
    },
    "tags": []
   },
   "outputs": [],
   "source": [
    "titanic=pd.read_csv('../input/titanic-dataset/Titanic.csv')"
   ]
  },
  {
   "cell_type": "code",
   "execution_count": 3,
   "id": "bb0b759b",
   "metadata": {
    "execution": {
     "iopub.execute_input": "2022-01-19T19:31:40.734856Z",
     "iopub.status.busy": "2022-01-19T19:31:40.734174Z",
     "iopub.status.idle": "2022-01-19T19:31:40.738475Z",
     "shell.execute_reply": "2022-01-19T19:31:40.737937Z",
     "shell.execute_reply.started": "2022-01-19T19:28:08.027723Z"
    },
    "papermill": {
     "duration": 0.030938,
     "end_time": "2022-01-19T19:31:40.738683",
     "exception": false,
     "start_time": "2022-01-19T19:31:40.707745",
     "status": "completed"
    },
    "tags": []
   },
   "outputs": [
    {
     "data": {
      "text/plain": [
       "PassengerId      0\n",
       "Survived         0\n",
       "Pclass           0\n",
       "Name             0\n",
       "Sex              0\n",
       "Age             30\n",
       "SibSp            0\n",
       "Parch            0\n",
       "Ticket           0\n",
       "Fare             0\n",
       "Cabin          125\n",
       "Embarked         1\n",
       "dtype: int64"
      ]
     },
     "execution_count": 3,
     "metadata": {},
     "output_type": "execute_result"
    }
   ],
   "source": [
    "titanic.isnull().sum()"
   ]
  },
  {
   "cell_type": "code",
   "execution_count": 4,
   "id": "8e85d283",
   "metadata": {
    "execution": {
     "iopub.execute_input": "2022-01-19T19:31:40.776642Z",
     "iopub.status.busy": "2022-01-19T19:31:40.775965Z",
     "iopub.status.idle": "2022-01-19T19:31:40.793802Z",
     "shell.execute_reply": "2022-01-19T19:31:40.793159Z",
     "shell.execute_reply.started": "2022-01-19T19:28:21.773599Z"
    },
    "papermill": {
     "duration": 0.038885,
     "end_time": "2022-01-19T19:31:40.793941",
     "exception": false,
     "start_time": "2022-01-19T19:31:40.755056",
     "status": "completed"
    },
    "tags": []
   },
   "outputs": [
    {
     "data": {
      "text/html": [
       "<div>\n",
       "<style scoped>\n",
       "    .dataframe tbody tr th:only-of-type {\n",
       "        vertical-align: middle;\n",
       "    }\n",
       "\n",
       "    .dataframe tbody tr th {\n",
       "        vertical-align: top;\n",
       "    }\n",
       "\n",
       "    .dataframe thead th {\n",
       "        text-align: right;\n",
       "    }\n",
       "</style>\n",
       "<table border=\"1\" class=\"dataframe\">\n",
       "  <thead>\n",
       "    <tr style=\"text-align: right;\">\n",
       "      <th></th>\n",
       "      <th>PassengerId</th>\n",
       "      <th>Survived</th>\n",
       "      <th>Pclass</th>\n",
       "      <th>Name</th>\n",
       "      <th>Sex</th>\n",
       "      <th>Age</th>\n",
       "      <th>SibSp</th>\n",
       "      <th>Parch</th>\n",
       "      <th>Ticket</th>\n",
       "      <th>Fare</th>\n",
       "      <th>Cabin</th>\n",
       "      <th>Embarked</th>\n",
       "    </tr>\n",
       "  </thead>\n",
       "  <tbody>\n",
       "    <tr>\n",
       "      <th>0</th>\n",
       "      <td>1</td>\n",
       "      <td>0</td>\n",
       "      <td>3</td>\n",
       "      <td>Braund, Mr. Owen Harris</td>\n",
       "      <td>male</td>\n",
       "      <td>22.0</td>\n",
       "      <td>1</td>\n",
       "      <td>0</td>\n",
       "      <td>A/5 21171</td>\n",
       "      <td>7.2500</td>\n",
       "      <td>NaN</td>\n",
       "      <td>S</td>\n",
       "    </tr>\n",
       "    <tr>\n",
       "      <th>1</th>\n",
       "      <td>2</td>\n",
       "      <td>1</td>\n",
       "      <td>1</td>\n",
       "      <td>Cumings, Mrs. John Bradley (Florence Briggs Th...</td>\n",
       "      <td>female</td>\n",
       "      <td>38.0</td>\n",
       "      <td>1</td>\n",
       "      <td>0</td>\n",
       "      <td>PC 17599</td>\n",
       "      <td>71.2833</td>\n",
       "      <td>C85</td>\n",
       "      <td>C</td>\n",
       "    </tr>\n",
       "    <tr>\n",
       "      <th>2</th>\n",
       "      <td>3</td>\n",
       "      <td>1</td>\n",
       "      <td>3</td>\n",
       "      <td>Heikkinen, Miss. Laina</td>\n",
       "      <td>female</td>\n",
       "      <td>26.0</td>\n",
       "      <td>0</td>\n",
       "      <td>0</td>\n",
       "      <td>STON/O2. 3101282</td>\n",
       "      <td>7.9250</td>\n",
       "      <td>NaN</td>\n",
       "      <td>S</td>\n",
       "    </tr>\n",
       "    <tr>\n",
       "      <th>3</th>\n",
       "      <td>4</td>\n",
       "      <td>1</td>\n",
       "      <td>1</td>\n",
       "      <td>Futrelle, Mrs. Jacques Heath (Lily May Peel)</td>\n",
       "      <td>female</td>\n",
       "      <td>35.0</td>\n",
       "      <td>1</td>\n",
       "      <td>0</td>\n",
       "      <td>113803</td>\n",
       "      <td>53.1000</td>\n",
       "      <td>C123</td>\n",
       "      <td>S</td>\n",
       "    </tr>\n",
       "    <tr>\n",
       "      <th>4</th>\n",
       "      <td>5</td>\n",
       "      <td>0</td>\n",
       "      <td>3</td>\n",
       "      <td>Allen, Mr. William Henry</td>\n",
       "      <td>male</td>\n",
       "      <td>35.0</td>\n",
       "      <td>0</td>\n",
       "      <td>0</td>\n",
       "      <td>373450</td>\n",
       "      <td>8.0500</td>\n",
       "      <td>NaN</td>\n",
       "      <td>S</td>\n",
       "    </tr>\n",
       "  </tbody>\n",
       "</table>\n",
       "</div>"
      ],
      "text/plain": [
       "   PassengerId  Survived  Pclass  \\\n",
       "0            1         0       3   \n",
       "1            2         1       1   \n",
       "2            3         1       3   \n",
       "3            4         1       1   \n",
       "4            5         0       3   \n",
       "\n",
       "                                                Name     Sex   Age  SibSp  \\\n",
       "0                            Braund, Mr. Owen Harris    male  22.0      1   \n",
       "1  Cumings, Mrs. John Bradley (Florence Briggs Th...  female  38.0      1   \n",
       "2                             Heikkinen, Miss. Laina  female  26.0      0   \n",
       "3       Futrelle, Mrs. Jacques Heath (Lily May Peel)  female  35.0      1   \n",
       "4                           Allen, Mr. William Henry    male  35.0      0   \n",
       "\n",
       "   Parch            Ticket     Fare Cabin Embarked  \n",
       "0      0         A/5 21171   7.2500   NaN        S  \n",
       "1      0          PC 17599  71.2833   C85        C  \n",
       "2      0  STON/O2. 3101282   7.9250   NaN        S  \n",
       "3      0            113803  53.1000  C123        S  \n",
       "4      0            373450   8.0500   NaN        S  "
      ]
     },
     "execution_count": 4,
     "metadata": {},
     "output_type": "execute_result"
    }
   ],
   "source": [
    "titanic.head()"
   ]
  },
  {
   "cell_type": "code",
   "execution_count": 5,
   "id": "b871ff8d",
   "metadata": {
    "execution": {
     "iopub.execute_input": "2022-01-19T19:31:40.834839Z",
     "iopub.status.busy": "2022-01-19T19:31:40.834236Z",
     "iopub.status.idle": "2022-01-19T19:31:40.838195Z",
     "shell.execute_reply": "2022-01-19T19:31:40.837560Z",
     "shell.execute_reply.started": "2022-01-19T19:28:42.044410Z"
    },
    "papermill": {
     "duration": 0.028387,
     "end_time": "2022-01-19T19:31:40.838325",
     "exception": false,
     "start_time": "2022-01-19T19:31:40.809938",
     "status": "completed"
    },
    "tags": []
   },
   "outputs": [],
   "source": [
    "titanic = titanic.drop(columns=['Ticket','PassengerId','Cabin','Fare'])"
   ]
  },
  {
   "cell_type": "code",
   "execution_count": 6,
   "id": "de547f0e",
   "metadata": {
    "execution": {
     "iopub.execute_input": "2022-01-19T19:31:40.883015Z",
     "iopub.status.busy": "2022-01-19T19:31:40.882295Z",
     "iopub.status.idle": "2022-01-19T19:31:40.884565Z",
     "shell.execute_reply": "2022-01-19T19:31:40.883993Z",
     "shell.execute_reply.started": "2022-01-19T19:28:51.157067Z"
    },
    "papermill": {
     "duration": 0.030653,
     "end_time": "2022-01-19T19:31:40.884724",
     "exception": false,
     "start_time": "2022-01-19T19:31:40.854071",
     "status": "completed"
    },
    "tags": []
   },
   "outputs": [],
   "source": [
    "titanic['Sex'] = titanic['Sex'].map({'male':0, 'female':1})\n",
    "titanic['Embarked'] = titanic['Embarked'].map({'C':0, 'Q':1, 'S':2})"
   ]
  },
  {
   "cell_type": "code",
   "execution_count": 7,
   "id": "b586c68f",
   "metadata": {
    "execution": {
     "iopub.execute_input": "2022-01-19T19:31:40.923788Z",
     "iopub.status.busy": "2022-01-19T19:31:40.923129Z",
     "iopub.status.idle": "2022-01-19T19:31:40.937306Z",
     "shell.execute_reply": "2022-01-19T19:31:40.938086Z",
     "shell.execute_reply.started": "2022-01-19T19:28:59.505415Z"
    },
    "papermill": {
     "duration": 0.037618,
     "end_time": "2022-01-19T19:31:40.938293",
     "exception": false,
     "start_time": "2022-01-19T19:31:40.900675",
     "status": "completed"
    },
    "tags": []
   },
   "outputs": [
    {
     "name": "stdout",
     "output_type": "stream",
     "text": [
      "<class 'pandas.core.frame.DataFrame'>\n",
      "RangeIndex: 156 entries, 0 to 155\n",
      "Data columns (total 8 columns):\n",
      " #   Column    Non-Null Count  Dtype  \n",
      "---  ------    --------------  -----  \n",
      " 0   Survived  156 non-null    int64  \n",
      " 1   Pclass    156 non-null    int64  \n",
      " 2   Name      156 non-null    object \n",
      " 3   Sex       156 non-null    int64  \n",
      " 4   Age       126 non-null    float64\n",
      " 5   SibSp     156 non-null    int64  \n",
      " 6   Parch     156 non-null    int64  \n",
      " 7   Embarked  156 non-null    float64\n",
      "dtypes: float64(2), int64(5), object(1)\n",
      "memory usage: 9.9+ KB\n"
     ]
    }
   ],
   "source": [
    "titanic['Embarked'] = titanic['Embarked'].fillna(2)\n",
    "titanic.info()"
   ]
  },
  {
   "cell_type": "code",
   "execution_count": 8,
   "id": "a1f28cc2",
   "metadata": {
    "execution": {
     "iopub.execute_input": "2022-01-19T19:31:40.977398Z",
     "iopub.status.busy": "2022-01-19T19:31:40.976757Z",
     "iopub.status.idle": "2022-01-19T19:31:40.979304Z",
     "shell.execute_reply": "2022-01-19T19:31:40.979793Z",
     "shell.execute_reply.started": "2022-01-19T19:29:13.041778Z"
    },
    "papermill": {
     "duration": 0.024771,
     "end_time": "2022-01-19T19:31:40.979943",
     "exception": false,
     "start_time": "2022-01-19T19:31:40.955172",
     "status": "completed"
    },
    "tags": []
   },
   "outputs": [],
   "source": [
    "titanic['Age']=titanic['Age'].fillna(titanic['Age'].median)"
   ]
  },
  {
   "cell_type": "code",
   "execution_count": 9,
   "id": "9200dda3",
   "metadata": {
    "execution": {
     "iopub.execute_input": "2022-01-19T19:31:41.021141Z",
     "iopub.status.busy": "2022-01-19T19:31:41.020450Z",
     "iopub.status.idle": "2022-01-19T19:31:41.023121Z",
     "shell.execute_reply": "2022-01-19T19:31:41.023651Z",
     "shell.execute_reply.started": "2022-01-19T19:29:22.567651Z"
    },
    "papermill": {
     "duration": 0.02754,
     "end_time": "2022-01-19T19:31:41.023807",
     "exception": false,
     "start_time": "2022-01-19T19:31:40.996267",
     "status": "completed"
    },
    "tags": []
   },
   "outputs": [
    {
     "data": {
      "text/plain": [
       "Survived    0\n",
       "Pclass      0\n",
       "Name        0\n",
       "Sex         0\n",
       "Age         0\n",
       "SibSp       0\n",
       "Parch       0\n",
       "Embarked    0\n",
       "dtype: int64"
      ]
     },
     "execution_count": 9,
     "metadata": {},
     "output_type": "execute_result"
    }
   ],
   "source": [
    "titanic.isnull().sum()"
   ]
  },
  {
   "cell_type": "code",
   "execution_count": 10,
   "id": "1c424f35",
   "metadata": {
    "execution": {
     "iopub.execute_input": "2022-01-19T19:31:41.062453Z",
     "iopub.status.busy": "2022-01-19T19:31:41.061829Z",
     "iopub.status.idle": "2022-01-19T19:31:41.065735Z",
     "shell.execute_reply": "2022-01-19T19:31:41.065213Z",
     "shell.execute_reply.started": "2022-01-19T19:29:43.796909Z"
    },
    "papermill": {
     "duration": 0.025527,
     "end_time": "2022-01-19T19:31:41.065874",
     "exception": false,
     "start_time": "2022-01-19T19:31:41.040347",
     "status": "completed"
    },
    "tags": []
   },
   "outputs": [],
   "source": [
    "titanic = titanic.drop(columns=['Name','Age'])"
   ]
  },
  {
   "cell_type": "code",
   "execution_count": 11,
   "id": "c814d37a",
   "metadata": {
    "execution": {
     "iopub.execute_input": "2022-01-19T19:31:41.110000Z",
     "iopub.status.busy": "2022-01-19T19:31:41.109240Z",
     "iopub.status.idle": "2022-01-19T19:31:41.113678Z",
     "shell.execute_reply": "2022-01-19T19:31:41.113098Z",
     "shell.execute_reply.started": "2022-01-19T19:29:53.483375Z"
    },
    "papermill": {
     "duration": 0.031151,
     "end_time": "2022-01-19T19:31:41.113820",
     "exception": false,
     "start_time": "2022-01-19T19:31:41.082669",
     "status": "completed"
    },
    "tags": []
   },
   "outputs": [
    {
     "data": {
      "text/html": [
       "<div>\n",
       "<style scoped>\n",
       "    .dataframe tbody tr th:only-of-type {\n",
       "        vertical-align: middle;\n",
       "    }\n",
       "\n",
       "    .dataframe tbody tr th {\n",
       "        vertical-align: top;\n",
       "    }\n",
       "\n",
       "    .dataframe thead th {\n",
       "        text-align: right;\n",
       "    }\n",
       "</style>\n",
       "<table border=\"1\" class=\"dataframe\">\n",
       "  <thead>\n",
       "    <tr style=\"text-align: right;\">\n",
       "      <th></th>\n",
       "      <th>Survived</th>\n",
       "      <th>Pclass</th>\n",
       "      <th>Sex</th>\n",
       "      <th>SibSp</th>\n",
       "      <th>Parch</th>\n",
       "      <th>Embarked</th>\n",
       "    </tr>\n",
       "  </thead>\n",
       "  <tbody>\n",
       "    <tr>\n",
       "      <th>0</th>\n",
       "      <td>0</td>\n",
       "      <td>3</td>\n",
       "      <td>0</td>\n",
       "      <td>1</td>\n",
       "      <td>0</td>\n",
       "      <td>2.0</td>\n",
       "    </tr>\n",
       "    <tr>\n",
       "      <th>1</th>\n",
       "      <td>1</td>\n",
       "      <td>1</td>\n",
       "      <td>1</td>\n",
       "      <td>1</td>\n",
       "      <td>0</td>\n",
       "      <td>0.0</td>\n",
       "    </tr>\n",
       "    <tr>\n",
       "      <th>2</th>\n",
       "      <td>1</td>\n",
       "      <td>3</td>\n",
       "      <td>1</td>\n",
       "      <td>0</td>\n",
       "      <td>0</td>\n",
       "      <td>2.0</td>\n",
       "    </tr>\n",
       "    <tr>\n",
       "      <th>3</th>\n",
       "      <td>1</td>\n",
       "      <td>1</td>\n",
       "      <td>1</td>\n",
       "      <td>1</td>\n",
       "      <td>0</td>\n",
       "      <td>2.0</td>\n",
       "    </tr>\n",
       "    <tr>\n",
       "      <th>4</th>\n",
       "      <td>0</td>\n",
       "      <td>3</td>\n",
       "      <td>0</td>\n",
       "      <td>0</td>\n",
       "      <td>0</td>\n",
       "      <td>2.0</td>\n",
       "    </tr>\n",
       "  </tbody>\n",
       "</table>\n",
       "</div>"
      ],
      "text/plain": [
       "   Survived  Pclass  Sex  SibSp  Parch  Embarked\n",
       "0         0       3    0      1      0       2.0\n",
       "1         1       1    1      1      0       0.0\n",
       "2         1       3    1      0      0       2.0\n",
       "3         1       1    1      1      0       2.0\n",
       "4         0       3    0      0      0       2.0"
      ]
     },
     "execution_count": 11,
     "metadata": {},
     "output_type": "execute_result"
    }
   ],
   "source": [
    "titanic.head()"
   ]
  },
  {
   "cell_type": "code",
   "execution_count": 12,
   "id": "099254db",
   "metadata": {
    "execution": {
     "iopub.execute_input": "2022-01-19T19:31:41.153255Z",
     "iopub.status.busy": "2022-01-19T19:31:41.152289Z",
     "iopub.status.idle": "2022-01-19T19:31:41.157109Z",
     "shell.execute_reply": "2022-01-19T19:31:41.157699Z",
     "shell.execute_reply.started": "2022-01-19T19:30:08.871629Z"
    },
    "papermill": {
     "duration": 0.026799,
     "end_time": "2022-01-19T19:31:41.157875",
     "exception": false,
     "start_time": "2022-01-19T19:31:41.131076",
     "status": "completed"
    },
    "tags": []
   },
   "outputs": [],
   "source": [
    "x5=titanic.iloc[:,1:6]\n",
    "y5=titanic.iloc[:,[0]]\n",
    "\n",
    "\n",
    "\n",
    "\n"
   ]
  },
  {
   "cell_type": "code",
   "execution_count": 13,
   "id": "bcd3335c",
   "metadata": {
    "execution": {
     "iopub.execute_input": "2022-01-19T19:31:41.196341Z",
     "iopub.status.busy": "2022-01-19T19:31:41.195432Z",
     "iopub.status.idle": "2022-01-19T19:31:41.202529Z",
     "shell.execute_reply": "2022-01-19T19:31:41.203108Z",
     "shell.execute_reply.started": "2022-01-19T19:30:19.402641Z"
    },
    "papermill": {
     "duration": 0.028078,
     "end_time": "2022-01-19T19:31:41.203261",
     "exception": false,
     "start_time": "2022-01-19T19:31:41.175183",
     "status": "completed"
    },
    "tags": []
   },
   "outputs": [],
   "source": [
    "x5_train,x5_test,y5_train,y5_test=train_test_split(x5,y5,test_size=0.25,random_state=0)\n",
    "\n"
   ]
  },
  {
   "cell_type": "code",
   "execution_count": 14,
   "id": "5ed452f2",
   "metadata": {
    "execution": {
     "iopub.execute_input": "2022-01-19T19:31:41.240942Z",
     "iopub.status.busy": "2022-01-19T19:31:41.240020Z",
     "iopub.status.idle": "2022-01-19T19:31:41.243796Z",
     "shell.execute_reply": "2022-01-19T19:31:41.244383Z",
     "shell.execute_reply.started": "2022-01-19T19:30:30.966131Z"
    },
    "papermill": {
     "duration": 0.02429,
     "end_time": "2022-01-19T19:31:41.244547",
     "exception": false,
     "start_time": "2022-01-19T19:31:41.220257",
     "status": "completed"
    },
    "tags": []
   },
   "outputs": [],
   "source": [
    "# import the class\n",
    "from sklearn.linear_model import LogisticRegression"
   ]
  },
  {
   "cell_type": "code",
   "execution_count": 15,
   "id": "c6d527c7",
   "metadata": {
    "execution": {
     "iopub.execute_input": "2022-01-19T19:31:41.283381Z",
     "iopub.status.busy": "2022-01-19T19:31:41.282448Z",
     "iopub.status.idle": "2022-01-19T19:31:41.285984Z",
     "shell.execute_reply": "2022-01-19T19:31:41.286538Z",
     "shell.execute_reply.started": "2022-01-19T19:30:40.589970Z"
    },
    "papermill": {
     "duration": 0.024864,
     "end_time": "2022-01-19T19:31:41.286724",
     "exception": false,
     "start_time": "2022-01-19T19:31:41.261860",
     "status": "completed"
    },
    "tags": []
   },
   "outputs": [],
   "source": [
    "# instantiate the model (using the default parameters)\n",
    "logreg=LogisticRegression()\n"
   ]
  },
  {
   "cell_type": "code",
   "execution_count": 16,
   "id": "7959f3b3",
   "metadata": {
    "execution": {
     "iopub.execute_input": "2022-01-19T19:31:41.325092Z",
     "iopub.status.busy": "2022-01-19T19:31:41.324147Z",
     "iopub.status.idle": "2022-01-19T19:31:41.347423Z",
     "shell.execute_reply": "2022-01-19T19:31:41.346891Z",
     "shell.execute_reply.started": "2022-01-19T19:30:53.920029Z"
    },
    "papermill": {
     "duration": 0.043276,
     "end_time": "2022-01-19T19:31:41.347557",
     "exception": false,
     "start_time": "2022-01-19T19:31:41.304281",
     "status": "completed"
    },
    "tags": []
   },
   "outputs": [
    {
     "name": "stderr",
     "output_type": "stream",
     "text": [
      "/opt/conda/lib/python3.7/site-packages/sklearn/utils/validation.py:72: DataConversionWarning: A column-vector y was passed when a 1d array was expected. Please change the shape of y to (n_samples, ), for example using ravel().\n",
      "  return f(**kwargs)\n"
     ]
    },
    {
     "data": {
      "text/plain": [
       "LogisticRegression()"
      ]
     },
     "execution_count": 16,
     "metadata": {},
     "output_type": "execute_result"
    }
   ],
   "source": [
    "# fit the model with data\n",
    "logreg.fit(x5_train,y5_train)\n"
   ]
  },
  {
   "cell_type": "code",
   "execution_count": 17,
   "id": "117f40c2",
   "metadata": {
    "execution": {
     "iopub.execute_input": "2022-01-19T19:31:41.388898Z",
     "iopub.status.busy": "2022-01-19T19:31:41.388257Z",
     "iopub.status.idle": "2022-01-19T19:31:41.410187Z",
     "shell.execute_reply": "2022-01-19T19:31:41.410732Z",
     "shell.execute_reply.started": "2022-01-19T19:31:07.537643Z"
    },
    "papermill": {
     "duration": 0.045211,
     "end_time": "2022-01-19T19:31:41.410902",
     "exception": false,
     "start_time": "2022-01-19T19:31:41.365691",
     "status": "completed"
    },
    "tags": []
   },
   "outputs": [
    {
     "name": "stdout",
     "output_type": "stream",
     "text": [
      "[[0.83937952 0.16062048]]\n",
      "Accuracy: 0.8205128205128205\n",
      "Precision: 0.6\n",
      "Recall: 0.6666666666666666\n",
      "Accuracy: 0.811965811965812\n",
      "Precision: 0.7804878048780488\n",
      "Recall: 0.7111111111111111\n"
     ]
    }
   ],
   "source": [
    "#for printing the probability\n",
    "y5_pred=logreg.predict_proba([[3,0,0,0,2.0]])\n",
    "print(y5_pred)\n",
    "\n",
    "\n",
    "y5_pred=logreg.predict(x5_test)\n",
    "y5_pred2=logreg.predict(x5_train)\n",
    "\n",
    "\n",
    "\n",
    "\n",
    "cnf_matrix = metrics.confusion_matrix(y5_test, y5_pred)\n",
    "cnf_matrix\n",
    "cnf_matrix2 = metrics.confusion_matrix(y5_train, y5_pred2)\n",
    "cnf_matrix2\n",
    "\n",
    "print(\"Accuracy:\",metrics.accuracy_score(y5_test, y5_pred))\n",
    "print(\"Precision:\",metrics.precision_score(y5_test, y5_pred))\n",
    "print(\"Recall:\",metrics.recall_score(y5_test, y5_pred))\n",
    "print(\"Accuracy:\",metrics.accuracy_score(y5_train, y5_pred2))\n",
    "print(\"Precision:\",metrics.precision_score(y5_train, y5_pred2))\n",
    "print(\"Recall:\",metrics.recall_score(y5_train, y5_pred2))\n",
    "\n"
   ]
  },
  {
   "cell_type": "code",
   "execution_count": null,
   "id": "9c5587ce",
   "metadata": {
    "papermill": {
     "duration": 0.018211,
     "end_time": "2022-01-19T19:31:41.447177",
     "exception": false,
     "start_time": "2022-01-19T19:31:41.428966",
     "status": "completed"
    },
    "tags": []
   },
   "outputs": [],
   "source": []
  }
 ],
 "metadata": {
  "kernelspec": {
   "display_name": "Python 3",
   "language": "python",
   "name": "python3"
  },
  "language_info": {
   "codemirror_mode": {
    "name": "ipython",
    "version": 3
   },
   "file_extension": ".py",
   "mimetype": "text/x-python",
   "name": "python",
   "nbconvert_exporter": "python",
   "pygments_lexer": "ipython3",
   "version": "3.7.12"
  },
  "papermill": {
   "default_parameters": {},
   "duration": 12.511385,
   "end_time": "2022-01-19T19:31:42.176778",
   "environment_variables": {},
   "exception": null,
   "input_path": "__notebook__.ipynb",
   "output_path": "__notebook__.ipynb",
   "parameters": {},
   "start_time": "2022-01-19T19:31:29.665393",
   "version": "2.3.3"
  }
 },
 "nbformat": 4,
 "nbformat_minor": 5
}
