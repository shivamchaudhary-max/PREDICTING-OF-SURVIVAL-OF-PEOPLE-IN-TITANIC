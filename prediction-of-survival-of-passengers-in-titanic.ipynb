{
 "cells": [
  {
   "cell_type": "code",
   "execution_count": 1,
   "id": "bf9186b3",
   "metadata": {
    "execution": {
     "iopub.execute_input": "2022-01-20T16:20:51.291846Z",
     "iopub.status.busy": "2022-01-20T16:20:51.290874Z",
     "iopub.status.idle": "2022-01-20T16:20:51.312901Z",
     "shell.execute_reply": "2022-01-20T16:20:51.312219Z",
     "shell.execute_reply.started": "2022-01-20T16:16:41.147794Z"
    },
    "papermill": {
     "duration": 0.042973,
     "end_time": "2022-01-20T16:20:51.313092",
     "exception": false,
     "start_time": "2022-01-20T16:20:51.270119",
     "status": "completed"
    },
    "tags": []
   },
   "outputs": [],
   "source": [
    "import pandas as pd\n",
    "import numpy as np\n",
    "titanic=pd.read_csv('../input/titanic/Titanic.csv')"
   ]
  },
  {
   "cell_type": "code",
   "execution_count": 2,
   "id": "cae9c758",
   "metadata": {
    "execution": {
     "iopub.execute_input": "2022-01-20T16:20:51.335898Z",
     "iopub.status.busy": "2022-01-20T16:20:51.335252Z",
     "iopub.status.idle": "2022-01-20T16:20:51.358746Z",
     "shell.execute_reply": "2022-01-20T16:20:51.358266Z",
     "shell.execute_reply.started": "2022-01-20T16:17:04.490937Z"
    },
    "papermill": {
     "duration": 0.035822,
     "end_time": "2022-01-20T16:20:51.358874",
     "exception": false,
     "start_time": "2022-01-20T16:20:51.323052",
     "status": "completed"
    },
    "tags": []
   },
   "outputs": [
    {
     "data": {
      "text/html": [
       "<div>\n",
       "<style scoped>\n",
       "    .dataframe tbody tr th:only-of-type {\n",
       "        vertical-align: middle;\n",
       "    }\n",
       "\n",
       "    .dataframe tbody tr th {\n",
       "        vertical-align: top;\n",
       "    }\n",
       "\n",
       "    .dataframe thead th {\n",
       "        text-align: right;\n",
       "    }\n",
       "</style>\n",
       "<table border=\"1\" class=\"dataframe\">\n",
       "  <thead>\n",
       "    <tr style=\"text-align: right;\">\n",
       "      <th></th>\n",
       "      <th>PassengerId</th>\n",
       "      <th>Survived</th>\n",
       "      <th>Pclass</th>\n",
       "      <th>Name</th>\n",
       "      <th>Sex</th>\n",
       "      <th>Age</th>\n",
       "      <th>SibSp</th>\n",
       "      <th>Parch</th>\n",
       "      <th>Ticket</th>\n",
       "      <th>Fare</th>\n",
       "      <th>Cabin</th>\n",
       "      <th>Embarked</th>\n",
       "    </tr>\n",
       "  </thead>\n",
       "  <tbody>\n",
       "    <tr>\n",
       "      <th>0</th>\n",
       "      <td>1</td>\n",
       "      <td>0</td>\n",
       "      <td>3</td>\n",
       "      <td>Braund, Mr. Owen Harris</td>\n",
       "      <td>male</td>\n",
       "      <td>22.0</td>\n",
       "      <td>1</td>\n",
       "      <td>0</td>\n",
       "      <td>A/5 21171</td>\n",
       "      <td>7.2500</td>\n",
       "      <td>NaN</td>\n",
       "      <td>S</td>\n",
       "    </tr>\n",
       "    <tr>\n",
       "      <th>1</th>\n",
       "      <td>2</td>\n",
       "      <td>1</td>\n",
       "      <td>1</td>\n",
       "      <td>Cumings, Mrs. John Bradley (Florence Briggs Th...</td>\n",
       "      <td>female</td>\n",
       "      <td>38.0</td>\n",
       "      <td>1</td>\n",
       "      <td>0</td>\n",
       "      <td>PC 17599</td>\n",
       "      <td>71.2833</td>\n",
       "      <td>C85</td>\n",
       "      <td>C</td>\n",
       "    </tr>\n",
       "    <tr>\n",
       "      <th>2</th>\n",
       "      <td>3</td>\n",
       "      <td>1</td>\n",
       "      <td>3</td>\n",
       "      <td>Heikkinen, Miss. Laina</td>\n",
       "      <td>female</td>\n",
       "      <td>26.0</td>\n",
       "      <td>0</td>\n",
       "      <td>0</td>\n",
       "      <td>STON/O2. 3101282</td>\n",
       "      <td>7.9250</td>\n",
       "      <td>NaN</td>\n",
       "      <td>S</td>\n",
       "    </tr>\n",
       "    <tr>\n",
       "      <th>3</th>\n",
       "      <td>4</td>\n",
       "      <td>1</td>\n",
       "      <td>1</td>\n",
       "      <td>Futrelle, Mrs. Jacques Heath (Lily May Peel)</td>\n",
       "      <td>female</td>\n",
       "      <td>35.0</td>\n",
       "      <td>1</td>\n",
       "      <td>0</td>\n",
       "      <td>113803</td>\n",
       "      <td>53.1000</td>\n",
       "      <td>C123</td>\n",
       "      <td>S</td>\n",
       "    </tr>\n",
       "    <tr>\n",
       "      <th>4</th>\n",
       "      <td>5</td>\n",
       "      <td>0</td>\n",
       "      <td>3</td>\n",
       "      <td>Allen, Mr. William Henry</td>\n",
       "      <td>male</td>\n",
       "      <td>35.0</td>\n",
       "      <td>0</td>\n",
       "      <td>0</td>\n",
       "      <td>373450</td>\n",
       "      <td>8.0500</td>\n",
       "      <td>NaN</td>\n",
       "      <td>S</td>\n",
       "    </tr>\n",
       "  </tbody>\n",
       "</table>\n",
       "</div>"
      ],
      "text/plain": [
       "   PassengerId  Survived  Pclass  \\\n",
       "0            1         0       3   \n",
       "1            2         1       1   \n",
       "2            3         1       3   \n",
       "3            4         1       1   \n",
       "4            5         0       3   \n",
       "\n",
       "                                                Name     Sex   Age  SibSp  \\\n",
       "0                            Braund, Mr. Owen Harris    male  22.0      1   \n",
       "1  Cumings, Mrs. John Bradley (Florence Briggs Th...  female  38.0      1   \n",
       "2                             Heikkinen, Miss. Laina  female  26.0      0   \n",
       "3       Futrelle, Mrs. Jacques Heath (Lily May Peel)  female  35.0      1   \n",
       "4                           Allen, Mr. William Henry    male  35.0      0   \n",
       "\n",
       "   Parch            Ticket     Fare Cabin Embarked  \n",
       "0      0         A/5 21171   7.2500   NaN        S  \n",
       "1      0          PC 17599  71.2833   C85        C  \n",
       "2      0  STON/O2. 3101282   7.9250   NaN        S  \n",
       "3      0            113803  53.1000  C123        S  \n",
       "4      0            373450   8.0500   NaN        S  "
      ]
     },
     "execution_count": 2,
     "metadata": {},
     "output_type": "execute_result"
    }
   ],
   "source": [
    "titanic.head()"
   ]
  },
  {
   "cell_type": "code",
   "execution_count": 3,
   "id": "f33d88ad",
   "metadata": {
    "execution": {
     "iopub.execute_input": "2022-01-20T16:20:51.387802Z",
     "iopub.status.busy": "2022-01-20T16:20:51.387125Z",
     "iopub.status.idle": "2022-01-20T16:20:51.400687Z",
     "shell.execute_reply": "2022-01-20T16:20:51.400130Z",
     "shell.execute_reply.started": "2022-01-20T16:17:22.143417Z"
    },
    "papermill": {
     "duration": 0.031896,
     "end_time": "2022-01-20T16:20:51.400845",
     "exception": false,
     "start_time": "2022-01-20T16:20:51.368949",
     "status": "completed"
    },
    "tags": []
   },
   "outputs": [],
   "source": [
    "titanic=titanic.drop(columns=['PassengerId','Name','Ticket','Cabin'])"
   ]
  },
  {
   "cell_type": "code",
   "execution_count": 4,
   "id": "add3be2e",
   "metadata": {
    "execution": {
     "iopub.execute_input": "2022-01-20T16:20:51.431342Z",
     "iopub.status.busy": "2022-01-20T16:20:51.430405Z",
     "iopub.status.idle": "2022-01-20T16:20:51.443348Z",
     "shell.execute_reply": "2022-01-20T16:20:51.442791Z",
     "shell.execute_reply.started": "2022-01-20T16:17:32.819421Z"
    },
    "papermill": {
     "duration": 0.032311,
     "end_time": "2022-01-20T16:20:51.443497",
     "exception": false,
     "start_time": "2022-01-20T16:20:51.411186",
     "status": "completed"
    },
    "tags": []
   },
   "outputs": [],
   "source": [
    "titanic['Sex'] = titanic['Sex'].map({'male':0, 'female':1})\n",
    "titanic['Embarked'] = titanic['Embarked'].map({'C':0, 'Q':1, 'S':2})"
   ]
  },
  {
   "cell_type": "code",
   "execution_count": 5,
   "id": "9f8d1d04",
   "metadata": {
    "execution": {
     "iopub.execute_input": "2022-01-20T16:20:51.480266Z",
     "iopub.status.busy": "2022-01-20T16:20:51.479290Z",
     "iopub.status.idle": "2022-01-20T16:20:51.488620Z",
     "shell.execute_reply": "2022-01-20T16:20:51.489286Z",
     "shell.execute_reply.started": "2022-01-20T16:17:45.285431Z"
    },
    "papermill": {
     "duration": 0.031545,
     "end_time": "2022-01-20T16:20:51.489454",
     "exception": false,
     "start_time": "2022-01-20T16:20:51.457909",
     "status": "completed"
    },
    "tags": []
   },
   "outputs": [
    {
     "data": {
      "text/html": [
       "<div>\n",
       "<style scoped>\n",
       "    .dataframe tbody tr th:only-of-type {\n",
       "        vertical-align: middle;\n",
       "    }\n",
       "\n",
       "    .dataframe tbody tr th {\n",
       "        vertical-align: top;\n",
       "    }\n",
       "\n",
       "    .dataframe thead th {\n",
       "        text-align: right;\n",
       "    }\n",
       "</style>\n",
       "<table border=\"1\" class=\"dataframe\">\n",
       "  <thead>\n",
       "    <tr style=\"text-align: right;\">\n",
       "      <th></th>\n",
       "      <th>Survived</th>\n",
       "      <th>Pclass</th>\n",
       "      <th>Sex</th>\n",
       "      <th>Age</th>\n",
       "      <th>SibSp</th>\n",
       "      <th>Parch</th>\n",
       "      <th>Fare</th>\n",
       "      <th>Embarked</th>\n",
       "    </tr>\n",
       "  </thead>\n",
       "  <tbody>\n",
       "    <tr>\n",
       "      <th>0</th>\n",
       "      <td>0</td>\n",
       "      <td>3</td>\n",
       "      <td>0</td>\n",
       "      <td>22.0</td>\n",
       "      <td>1</td>\n",
       "      <td>0</td>\n",
       "      <td>7.2500</td>\n",
       "      <td>2.0</td>\n",
       "    </tr>\n",
       "    <tr>\n",
       "      <th>1</th>\n",
       "      <td>1</td>\n",
       "      <td>1</td>\n",
       "      <td>1</td>\n",
       "      <td>38.0</td>\n",
       "      <td>1</td>\n",
       "      <td>0</td>\n",
       "      <td>71.2833</td>\n",
       "      <td>0.0</td>\n",
       "    </tr>\n",
       "    <tr>\n",
       "      <th>2</th>\n",
       "      <td>1</td>\n",
       "      <td>3</td>\n",
       "      <td>1</td>\n",
       "      <td>26.0</td>\n",
       "      <td>0</td>\n",
       "      <td>0</td>\n",
       "      <td>7.9250</td>\n",
       "      <td>2.0</td>\n",
       "    </tr>\n",
       "    <tr>\n",
       "      <th>3</th>\n",
       "      <td>1</td>\n",
       "      <td>1</td>\n",
       "      <td>1</td>\n",
       "      <td>35.0</td>\n",
       "      <td>1</td>\n",
       "      <td>0</td>\n",
       "      <td>53.1000</td>\n",
       "      <td>2.0</td>\n",
       "    </tr>\n",
       "    <tr>\n",
       "      <th>4</th>\n",
       "      <td>0</td>\n",
       "      <td>3</td>\n",
       "      <td>0</td>\n",
       "      <td>35.0</td>\n",
       "      <td>0</td>\n",
       "      <td>0</td>\n",
       "      <td>8.0500</td>\n",
       "      <td>2.0</td>\n",
       "    </tr>\n",
       "  </tbody>\n",
       "</table>\n",
       "</div>"
      ],
      "text/plain": [
       "   Survived  Pclass  Sex   Age  SibSp  Parch     Fare  Embarked\n",
       "0         0       3    0  22.0      1      0   7.2500       2.0\n",
       "1         1       1    1  38.0      1      0  71.2833       0.0\n",
       "2         1       3    1  26.0      0      0   7.9250       2.0\n",
       "3         1       1    1  35.0      1      0  53.1000       2.0\n",
       "4         0       3    0  35.0      0      0   8.0500       2.0"
      ]
     },
     "execution_count": 5,
     "metadata": {},
     "output_type": "execute_result"
    }
   ],
   "source": [
    "titanic.head()"
   ]
  },
  {
   "cell_type": "code",
   "execution_count": 6,
   "id": "5bcbb9d3",
   "metadata": {
    "execution": {
     "iopub.execute_input": "2022-01-20T16:20:51.515814Z",
     "iopub.status.busy": "2022-01-20T16:20:51.515233Z",
     "iopub.status.idle": "2022-01-20T16:20:51.523792Z",
     "shell.execute_reply": "2022-01-20T16:20:51.524412Z",
     "shell.execute_reply.started": "2022-01-20T16:18:00.855799Z"
    },
    "papermill": {
     "duration": 0.023559,
     "end_time": "2022-01-20T16:20:51.524636",
     "exception": false,
     "start_time": "2022-01-20T16:20:51.501077",
     "status": "completed"
    },
    "tags": []
   },
   "outputs": [
    {
     "data": {
      "text/plain": [
       "Survived     0\n",
       "Pclass       0\n",
       "Sex          0\n",
       "Age         30\n",
       "SibSp        0\n",
       "Parch        0\n",
       "Fare         0\n",
       "Embarked     1\n",
       "dtype: int64"
      ]
     },
     "execution_count": 6,
     "metadata": {},
     "output_type": "execute_result"
    }
   ],
   "source": [
    "titanic.isnull().sum()"
   ]
  },
  {
   "cell_type": "code",
   "execution_count": 7,
   "id": "1fe67cb4",
   "metadata": {
    "execution": {
     "iopub.execute_input": "2022-01-20T16:20:51.552840Z",
     "iopub.status.busy": "2022-01-20T16:20:51.552135Z",
     "iopub.status.idle": "2022-01-20T16:20:51.567842Z",
     "shell.execute_reply": "2022-01-20T16:20:51.567278Z",
     "shell.execute_reply.started": "2022-01-20T16:18:15.353263Z"
    },
    "papermill": {
     "duration": 0.02964,
     "end_time": "2022-01-20T16:20:51.567995",
     "exception": false,
     "start_time": "2022-01-20T16:20:51.538355",
     "status": "completed"
    },
    "tags": []
   },
   "outputs": [
    {
     "name": "stdout",
     "output_type": "stream",
     "text": [
      "<class 'pandas.core.frame.DataFrame'>\n",
      "RangeIndex: 156 entries, 0 to 155\n",
      "Data columns (total 8 columns):\n",
      " #   Column    Non-Null Count  Dtype  \n",
      "---  ------    --------------  -----  \n",
      " 0   Survived  156 non-null    int64  \n",
      " 1   Pclass    156 non-null    int64  \n",
      " 2   Sex       156 non-null    int64  \n",
      " 3   Age       126 non-null    float64\n",
      " 4   SibSp     156 non-null    int64  \n",
      " 5   Parch     156 non-null    int64  \n",
      " 6   Fare      156 non-null    float64\n",
      " 7   Embarked  156 non-null    float64\n",
      "dtypes: float64(3), int64(5)\n",
      "memory usage: 9.9 KB\n"
     ]
    }
   ],
   "source": [
    "titanic['Embarked'] = titanic['Embarked'].fillna(2)\n",
    "titanic.info()"
   ]
  },
  {
   "cell_type": "code",
   "execution_count": 8,
   "id": "de647eff",
   "metadata": {
    "execution": {
     "iopub.execute_input": "2022-01-20T16:20:51.591815Z",
     "iopub.status.busy": "2022-01-20T16:20:51.591263Z",
     "iopub.status.idle": "2022-01-20T16:20:51.595895Z",
     "shell.execute_reply": "2022-01-20T16:20:51.596396Z",
     "shell.execute_reply.started": "2022-01-20T16:18:27.009365Z"
    },
    "papermill": {
     "duration": 0.018066,
     "end_time": "2022-01-20T16:20:51.596554",
     "exception": false,
     "start_time": "2022-01-20T16:20:51.578488",
     "status": "completed"
    },
    "tags": []
   },
   "outputs": [],
   "source": [
    "titanic['Age']=titanic['Age'].fillna(titanic['Age'].median)"
   ]
  },
  {
   "cell_type": "code",
   "execution_count": 9,
   "id": "cb100b9d",
   "metadata": {
    "execution": {
     "iopub.execute_input": "2022-01-20T16:20:51.620552Z",
     "iopub.status.busy": "2022-01-20T16:20:51.620001Z",
     "iopub.status.idle": "2022-01-20T16:20:51.627087Z",
     "shell.execute_reply": "2022-01-20T16:20:51.627542Z",
     "shell.execute_reply.started": "2022-01-20T16:18:40.358754Z"
    },
    "papermill": {
     "duration": 0.020649,
     "end_time": "2022-01-20T16:20:51.627731",
     "exception": false,
     "start_time": "2022-01-20T16:20:51.607082",
     "status": "completed"
    },
    "tags": []
   },
   "outputs": [
    {
     "data": {
      "text/plain": [
       "Survived    0\n",
       "Pclass      0\n",
       "Sex         0\n",
       "Age         0\n",
       "SibSp       0\n",
       "Parch       0\n",
       "Fare        0\n",
       "Embarked    0\n",
       "dtype: int64"
      ]
     },
     "execution_count": 9,
     "metadata": {},
     "output_type": "execute_result"
    }
   ],
   "source": [
    "titanic.isnull().sum()"
   ]
  },
  {
   "cell_type": "code",
   "execution_count": 10,
   "id": "75ffc7d4",
   "metadata": {
    "execution": {
     "iopub.execute_input": "2022-01-20T16:20:51.653062Z",
     "iopub.status.busy": "2022-01-20T16:20:51.652473Z",
     "iopub.status.idle": "2022-01-20T16:20:51.657236Z",
     "shell.execute_reply": "2022-01-20T16:20:51.657718Z",
     "shell.execute_reply.started": "2022-01-20T16:18:53.218136Z"
    },
    "papermill": {
     "duration": 0.018852,
     "end_time": "2022-01-20T16:20:51.657877",
     "exception": false,
     "start_time": "2022-01-20T16:20:51.639025",
     "status": "completed"
    },
    "tags": []
   },
   "outputs": [],
   "source": [
    "titanic=titanic.drop(columns=['Age'])"
   ]
  },
  {
   "cell_type": "code",
   "execution_count": 11,
   "id": "59dc70c5",
   "metadata": {
    "execution": {
     "iopub.execute_input": "2022-01-20T16:20:51.691264Z",
     "iopub.status.busy": "2022-01-20T16:20:51.690664Z",
     "iopub.status.idle": "2022-01-20T16:20:51.693109Z",
     "shell.execute_reply": "2022-01-20T16:20:51.693552Z",
     "shell.execute_reply.started": "2022-01-20T16:19:06.859953Z"
    },
    "papermill": {
     "duration": 0.024993,
     "end_time": "2022-01-20T16:20:51.693714",
     "exception": false,
     "start_time": "2022-01-20T16:20:51.668721",
     "status": "completed"
    },
    "tags": []
   },
   "outputs": [
    {
     "name": "stdout",
     "output_type": "stream",
     "text": [
      "     Pclass  Sex  SibSp  Parch     Fare  Embarked\n",
      "0         3    0      1      0   7.2500       2.0\n",
      "1         1    1      1      0  71.2833       0.0\n",
      "2         3    1      0      0   7.9250       2.0\n",
      "3         1    1      1      0  53.1000       2.0\n",
      "4         3    0      0      0   8.0500       2.0\n",
      "..      ...  ...    ...    ...      ...       ...\n",
      "151       1    1      1      0  66.6000       2.0\n",
      "152       3    0      0      0   8.0500       2.0\n",
      "153       3    0      0      2  14.5000       2.0\n",
      "154       3    0      0      0   7.3125       2.0\n",
      "155       1    0      0      1  61.3792       0.0\n",
      "\n",
      "[156 rows x 6 columns]\n",
      "0      0\n",
      "1      1\n",
      "2      1\n",
      "3      1\n",
      "4      0\n",
      "      ..\n",
      "151    1\n",
      "152    0\n",
      "153    0\n",
      "154    0\n",
      "155    0\n",
      "Name: Survived, Length: 156, dtype: int64\n"
     ]
    }
   ],
   "source": [
    "x2=titanic.iloc[:,1:7]\n",
    "label2=titanic.iloc[:,0]\n",
    "print(x2)\n",
    "print(label2)"
   ]
  },
  {
   "cell_type": "code",
   "execution_count": 12,
   "id": "343bf84f",
   "metadata": {
    "execution": {
     "iopub.execute_input": "2022-01-20T16:20:51.718731Z",
     "iopub.status.busy": "2022-01-20T16:20:51.718154Z",
     "iopub.status.idle": "2022-01-20T16:20:52.697313Z",
     "shell.execute_reply": "2022-01-20T16:20:52.696770Z",
     "shell.execute_reply.started": "2022-01-20T16:19:26.279254Z"
    },
    "papermill": {
     "duration": 0.992694,
     "end_time": "2022-01-20T16:20:52.697455",
     "exception": false,
     "start_time": "2022-01-20T16:20:51.704761",
     "status": "completed"
    },
    "tags": []
   },
   "outputs": [
    {
     "data": {
      "text/plain": [
       "GaussianNB()"
      ]
     },
     "execution_count": 12,
     "metadata": {},
     "output_type": "execute_result"
    }
   ],
   "source": [
    "#Import Gaussian Naive Bayes model\n",
    "from sklearn.naive_bayes import GaussianNB\n",
    "\n",
    "#Create a Gaussian Classifier\n",
    "model = GaussianNB()\n",
    "\n",
    "# Train the model using the training sets\n",
    "model.fit(x2,label2)"
   ]
  },
  {
   "cell_type": "code",
   "execution_count": 13,
   "id": "6df8abd0",
   "metadata": {
    "execution": {
     "iopub.execute_input": "2022-01-20T16:20:52.726206Z",
     "iopub.status.busy": "2022-01-20T16:20:52.725552Z",
     "iopub.status.idle": "2022-01-20T16:20:52.728364Z",
     "shell.execute_reply": "2022-01-20T16:20:52.728779Z",
     "shell.execute_reply.started": "2022-01-20T16:19:41.792536Z"
    },
    "papermill": {
     "duration": 0.020156,
     "end_time": "2022-01-20T16:20:52.728962",
     "exception": false,
     "start_time": "2022-01-20T16:20:52.708806",
     "status": "completed"
    },
    "tags": []
   },
   "outputs": [
    {
     "name": "stdout",
     "output_type": "stream",
     "text": [
      "Predicted Value: [0]\n"
     ]
    }
   ],
   "source": [
    "#Predict Output\n",
    "predicted= model.predict([[3,0,1,0,7.2500,2.0]]) \n",
    "print(\"Predicted Value:\", predicted)"
   ]
  },
  {
   "cell_type": "code",
   "execution_count": null,
   "id": "49f9d3e9",
   "metadata": {
    "papermill": {
     "duration": 0.011429,
     "end_time": "2022-01-20T16:20:52.752187",
     "exception": false,
     "start_time": "2022-01-20T16:20:52.740758",
     "status": "completed"
    },
    "tags": []
   },
   "outputs": [],
   "source": []
  }
 ],
 "metadata": {
  "kernelspec": {
   "display_name": "Python 3",
   "language": "python",
   "name": "python3"
  },
  "language_info": {
   "codemirror_mode": {
    "name": "ipython",
    "version": 3
   },
   "file_extension": ".py",
   "mimetype": "text/x-python",
   "name": "python",
   "nbconvert_exporter": "python",
   "pygments_lexer": "ipython3",
   "version": "3.7.12"
  },
  "papermill": {
   "default_parameters": {},
   "duration": 11.079092,
   "end_time": "2022-01-20T16:20:53.474527",
   "environment_variables": {},
   "exception": null,
   "input_path": "__notebook__.ipynb",
   "output_path": "__notebook__.ipynb",
   "parameters": {},
   "start_time": "2022-01-20T16:20:42.395435",
   "version": "2.3.3"
  }
 },
 "nbformat": 4,
 "nbformat_minor": 5
}
